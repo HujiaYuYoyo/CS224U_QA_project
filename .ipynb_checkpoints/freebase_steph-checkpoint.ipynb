{
 "cells": [
  {
   "cell_type": "code",
   "execution_count": 420,
   "metadata": {},
   "outputs": [],
   "source": [
    "# freebase knowledge base\n",
    "\n",
    "# <subject>  <predicate>  <object>\n",
    "\n",
    "import gzip\n",
    "import numpy as np\n",
    "import random\n",
    "import os\n",
    "\n",
    "from collections import Counter, defaultdict, namedtuple\n",
    "from sklearn.feature_extraction import DictVectorizer\n",
    "from sklearn.linear_model import LogisticRegression\n",
    "from sklearn.metrics import precision_recall_fscore_support\n",
    "from sklearn.model_selection import train_test_split\n",
    "from nltk import word_tokenize, pos_tag, ne_chunk\n",
    "\n",
    "rel_ext_data_home = '../cs224u/rel_ext_data'"
   ]
  },
  {
   "cell_type": "code",
   "execution_count": 101,
   "metadata": {},
   "outputs": [
    {
     "name": "stdout",
     "output_type": "stream",
     "text": [
      "Reading KB triples from ../cs224u/rel_ext_data\\kb.tsv.gz ...\n",
      "Read 56575 KB triples\n"
     ]
    }
   ],
   "source": [
    "KBTriple = namedtuple('KBTriple', 'rel, sbj, obj')\n",
    "\n",
    "def read_kb_triples():\n",
    "    kb_triples = []\n",
    "    path = os.path.join(rel_ext_data_home, 'kb.tsv.gz')\n",
    "    print('Reading KB triples from {} ...'.format(path))\n",
    "    with gzip.open(path) as f:\n",
    "        for line in f:\n",
    "            rel, sbj, obj = line[:-1].decode('utf-8').split('\\t')\n",
    "            kb_triples.append(KBTriple(rel, sbj, obj))\n",
    "    print('Read {} KB triples'.format(len(kb_triples)))\n",
    "    return kb_triples\n",
    "\n",
    "kb_triples = read_kb_triples()"
   ]
  },
  {
   "cell_type": "code",
   "execution_count": 102,
   "metadata": {},
   "outputs": [],
   "source": [
    "class KB():\n",
    "\n",
    "    def __init__(self, kb_triples):\n",
    "        self._kb_triples = kb_triples\n",
    "        self._all_relations = []\n",
    "        self._all_entity_pairs = []\n",
    "        self._kb_triples_by_relation = {}\n",
    "        self._kb_triples_by_entities = {}\n",
    "        self._collect_all_entity_pairs()\n",
    "        self._index_kb_triples_by_relation()\n",
    "        self._index_kb_triples_by_entities()\n",
    "\n",
    "    def _collect_all_entity_pairs(self):\n",
    "        pairs = set()\n",
    "        for kbt in self._kb_triples:\n",
    "            pairs.add((kbt.sbj, kbt.obj))\n",
    "        self._all_entity_pairs = sorted(list(pairs))\n",
    "        \n",
    "    def _index_kb_triples_by_relation(self):\n",
    "        for kbt in self._kb_triples:\n",
    "            if kbt.rel not in self._kb_triples_by_relation:\n",
    "                self._kb_triples_by_relation[kbt.rel] = []\n",
    "            self._kb_triples_by_relation[kbt.rel].append(kbt)\n",
    "        self._all_relations = sorted(list(self._kb_triples_by_relation))\n",
    "    \n",
    "    def _index_kb_triples_by_entities(self):\n",
    "        for kbt in self._kb_triples:\n",
    "            if kbt.sbj not in self._kb_triples_by_entities:\n",
    "                self._kb_triples_by_entities[kbt.sbj] = {}\n",
    "            if kbt.obj not in self._kb_triples_by_entities[kbt.sbj]:\n",
    "                self._kb_triples_by_entities[kbt.sbj][kbt.obj] = []\n",
    "            self._kb_triples_by_entities[kbt.sbj][kbt.obj].append(kbt)\n",
    "\n",
    "    def get_triples(self):\n",
    "        return iter(self._kb_triples)\n",
    "        \n",
    "    def get_all_relations(self):\n",
    "        return self._all_relations\n",
    "            \n",
    "    def get_all_entity_pairs(self):\n",
    "        return self._all_entity_pairs\n",
    "            \n",
    "    def get_triples_for_relation(self, rel):\n",
    "        try:\n",
    "            return self._kb_triples_by_relation[rel]\n",
    "        except KeyError:\n",
    "            return []\n",
    "\n",
    "    def get_triples_for_entities(self, e1, e2):\n",
    "        try:\n",
    "            return self._kb_triples_by_entities[e1][e2]\n",
    "        except KeyError:\n",
    "            return []\n",
    "\n",
    "    def __repr__(self):\n",
    "        return 'KB with {} triples'.format(len(self._kb_triples))"
   ]
  },
  {
   "cell_type": "code",
   "execution_count": 103,
   "metadata": {},
   "outputs": [],
   "source": [
    "kb = KB(kb_triples)"
   ]
  },
  {
   "cell_type": "code",
   "execution_count": 104,
   "metadata": {},
   "outputs": [
    {
     "name": "stdout",
     "output_type": "stream",
     "text": [
      "16\n"
     ]
    }
   ],
   "source": [
    "all_relations = kb.get_all_relations()\n",
    "print(len(all_relations))"
   ]
  },
  {
   "cell_type": "code",
   "execution_count": 105,
   "metadata": {},
   "outputs": [
    {
     "name": "stdout",
     "output_type": "stream",
     "text": [
      "        2140 adjoins\n",
      "        3316 author\n",
      "         637 capital\n",
      "       22489 contains\n",
      "        4958 film_performance\n",
      "        2404 founders\n",
      "        1012 genre\n",
      "        3280 has_sibling\n",
      "        3774 has_spouse\n",
      "        3153 is_a\n",
      "        1981 nationality\n",
      "        2013 parents\n",
      "        1388 place_of_birth\n",
      "        1031 place_of_death\n",
      "        1526 profession\n",
      "        1473 worked_at\n"
     ]
    }
   ],
   "source": [
    "for rel in all_relations:\n",
    "    print('{:12d} {}'.format(len(kb.get_triples_for_relation(rel)), rel))"
   ]
  },
  {
   "cell_type": "code",
   "execution_count": 106,
   "metadata": {},
   "outputs": [
    {
     "name": "stdout",
     "output_type": "stream",
     "text": [
      "('adjoins', 'Siegburg', 'Bonn')\n",
      "('author', 'Uncle_Silas', 'Sheridan_Le_Fanu')\n",
      "('capital', 'Tunisia', 'Tunis')\n",
      "('contains', 'Brickfields', 'Kuala_Lumpur_Sentral_railway_station')\n",
      "('film_performance', 'Colin_Hanks', 'The_Great_Buck_Howard')\n",
      "('founders', 'Bomis', 'Jimmy_Wales')\n",
      "('genre', 'SPARQL', 'Semantic_Web')\n",
      "('has_sibling', 'Ari_Emanuel', 'Rahm_Emanuel')\n",
      "('has_spouse', 'Percy_Bysshe_Shelley', 'Mary_Shelley')\n",
      "('is_a', 'Bhanu_Athaiya', 'Costume_designer')\n",
      "('nationality', 'Ruben_Rausing', 'Sweden')\n",
      "('parents', 'Prince_Arthur_of_Connaught', 'Prince_Arthur,_Duke_of_Connaught_and_Strathearn')\n",
      "('place_of_birth', 'William_Penny_Brookes', 'Much_Wenlock')\n",
      "('place_of_death', 'Jean_Drapeau', 'Montreal')\n",
      "('profession', 'Rufus_Wainwright', 'Actor')\n",
      "('worked_at', 'Ray_Jackendoff', 'Tufts_University')\n"
     ]
    }
   ],
   "source": [
    "for rel in all_relations:\n",
    "    print(tuple(kb.get_triples_for_relation(rel)[0]))"
   ]
  },
  {
   "cell_type": "code",
   "execution_count": 107,
   "metadata": {},
   "outputs": [],
   "source": [
    "triples = []\n",
    "for relation in kb.get_all_relations():\n",
    "    triples.append(kb.get_triples_for_relation(relation)[0])"
   ]
  },
  {
   "cell_type": "code",
   "execution_count": 108,
   "metadata": {},
   "outputs": [
    {
     "data": {
      "text/plain": [
       "[KBTriple(rel='adjoins', sbj='Siegburg', obj='Bonn'),\n",
       " KBTriple(rel='author', sbj='Uncle_Silas', obj='Sheridan_Le_Fanu'),\n",
       " KBTriple(rel='capital', sbj='Tunisia', obj='Tunis'),\n",
       " KBTriple(rel='contains', sbj='Brickfields', obj='Kuala_Lumpur_Sentral_railway_station'),\n",
       " KBTriple(rel='film_performance', sbj='Colin_Hanks', obj='The_Great_Buck_Howard'),\n",
       " KBTriple(rel='founders', sbj='Bomis', obj='Jimmy_Wales'),\n",
       " KBTriple(rel='genre', sbj='SPARQL', obj='Semantic_Web'),\n",
       " KBTriple(rel='has_sibling', sbj='Ari_Emanuel', obj='Rahm_Emanuel'),\n",
       " KBTriple(rel='has_spouse', sbj='Percy_Bysshe_Shelley', obj='Mary_Shelley'),\n",
       " KBTriple(rel='is_a', sbj='Bhanu_Athaiya', obj='Costume_designer'),\n",
       " KBTriple(rel='nationality', sbj='Ruben_Rausing', obj='Sweden'),\n",
       " KBTriple(rel='parents', sbj='Prince_Arthur_of_Connaught', obj='Prince_Arthur,_Duke_of_Connaught_and_Strathearn'),\n",
       " KBTriple(rel='place_of_birth', sbj='William_Penny_Brookes', obj='Much_Wenlock'),\n",
       " KBTriple(rel='place_of_death', sbj='Jean_Drapeau', obj='Montreal'),\n",
       " KBTriple(rel='profession', sbj='Rufus_Wainwright', obj='Actor'),\n",
       " KBTriple(rel='worked_at', sbj='Ray_Jackendoff', obj='Tufts_University')]"
      ]
     },
     "execution_count": 108,
     "metadata": {},
     "output_type": "execute_result"
    }
   ],
   "source": [
    "triples"
   ]
  },
  {
   "cell_type": "code",
   "execution_count": 279,
   "metadata": {},
   "outputs": [],
   "source": [
    "questions = [\n",
    "    {'question': 'what is the city adjoining siegburg?', 'topic': 'siegburg', 'answer':'Bonn'},\n",
    "    {'question': 'who is the author of uncle silas?', 'topic': 'uncle_silas', 'answer':'Sheridan le Fanu'},\n",
    "    {'question': 'what is the capital of tunisia?', 'topic': 'tunisia', 'answer':'Tunis'},\n",
    "    {'question': 'where is the kuala lumpur central railway station?', 'topic': 'kuala_lumpur_sentral_railway_station', 'answer':'Brickfields'},\n",
    "    {'question': 'who stars in the great buck howard?', 'topic': 'the_great_buck_howard', 'answer':'Colin Hanks'},\n",
    "    {'question': 'who is the founder of bomis?', 'topic': 'bomis', 'answer':'Jimmy Wales'},\n",
    "    {'question': 'what is sparql?', 'topic': 'sparql', 'answer':'semantic query language'},\n",
    "    {'question': 'what is the name of ari emanuel\\'s brother?', 'topic': 'ari_emanuel', 'answer':'Rahm Emanuel'},\n",
    "    {'question': 'what is the name of percy bysshe shelley\\'s wife?', 'topic': 'percy_bysshe_shelley', 'answer':'Mary Shelley'},\n",
    "    {'question': 'what does bhanu athaiya do?', 'topic': 'bhanu_athaiya', 'answer':'costume designer'},\n",
    "    {'question': 'where is ruben rausing from?', 'topic': 'ruben_rausing', 'answer':'Sweden'},\n",
    "    {'question': 'who is prince arthur of connaught\\'s father?', 'topic': 'prince_arthur_of_connaught', 'answer':'Prince Arthur, Duke of Connaught and Strathearn'},\n",
    "    {'question': 'where was william penny brookes born?', 'topic': 'william_penny_brookes', 'answer':'Much Wenlock'},\n",
    "    {'question': 'where did jean drapeau die?', 'topic': 'jean_drapeau', 'answer':'Montreal'},\n",
    "    {'question': 'what does rufus wainwright do?', 'topic': 'rufus_wainwright', 'answer':'actor'},\n",
    "    {'question': 'where did ray jackendoff work?', 'topic': 'ray_jackendoff', 'answer':'Tufts University'}\n",
    "]"
   ]
  },
  {
   "cell_type": "code",
   "execution_count": 280,
   "metadata": {},
   "outputs": [],
   "source": [
    "# write into a file\n",
    "f = open('train.txt', 'w')\n",
    "for question in questions:\n",
    "    f.write(question['question'] +'\\n'+question['topic']+'\\n'+question['answer']+'\\n')\n",
    "    f.write('\\n')\n",
    "    \n",
    "f.close()"
   ]
  },
  {
   "cell_type": "code",
   "execution_count": 419,
   "metadata": {},
   "outputs": [],
   "source": [
    "def identify_entities(question):\n",
    "    # entities are [anything that starts with 'NN..']\n",
    "    # questions words [pos starts with 'W']\n",
    "    entities = []\n",
    "    pos_tags = [pos_tag(word_tokenize(word)) for word in question.split(' ')]\n",
    "    print(pos_tags)\n",
    "    for tag in pos_tags:\n",
    "        if tag[0][1].startswith('NN') or tag[0][1].startswith('W'):\n",
    "            entities.append(tag[0])\n",
    "    return entities"
   ]
  },
  {
   "cell_type": "code",
   "execution_count": 411,
   "metadata": {},
   "outputs": [
    {
     "name": "stdout",
     "output_type": "stream",
     "text": [
      "('?', '.')\n",
      "[('Ray', 'NNP')]\n",
      "[('Jackendoff', 'NNP'), ('Work', 'NNP')]\n",
      "('?', '.')\n",
      "None\n"
     ]
    }
   ],
   "source": [
    "# Named Entity Version, STILL WORKING ON THIS\n",
    "def pos_tagging(question):\n",
    "    # entities are [anything that starts with 'NN..']\n",
    "    # questions words [pos starts with 'W']\n",
    "    return [pos_tag(word_tokenize(word)) for word in question.split(' ')]\n",
    "\n",
    "def entity_tagging(question):\n",
    "    pos_tags = pos_tagging(question)\n",
    "    question = \" \" + question + \" \"\n",
    "    for tag in pos_tags:\n",
    "        if tag[0][1].startswith('NN'):\n",
    "            question = question.replace(tag[0][0], tag[0][0].capitalize())\n",
    "        else:\n",
    "            question = question.replace(\" \" + tag[0][0] + \" \", \" \")\n",
    "    # capitilize these nouns?\n",
    "    ne_tree = ne_chunk(pos_tag(word_tokenize(question)))\n",
    "    print(ne_tree[2])\n",
    "    for entity in ne_tree:\n",
    "        if(type(entity) == tuple):\n",
    "            print(entity)\n",
    "        else:\n",
    "            print(entity.leaves())\n",
    "      \n",
    "            \n",
    "cap_question = entity_tagging(question['question'])\n",
    "print(cap_question)"
   ]
  },
  {
   "cell_type": "code",
   "execution_count": 292,
   "metadata": {},
   "outputs": [],
   "source": [
    "def create_entity_pairs(entity_list):\n",
    "    pairs = []\n",
    "    print(entity_list)\n",
    "    for i in range(len(entity_list)):\n",
    "        for j in range(i+1, len(entity_list)):\n",
    "            pairs.append((entity_list[i][0], entity_list[j][0]))\n",
    "    print('pairs:', pairs)"
   ]
  },
  {
   "cell_type": "code",
   "execution_count": 418,
   "metadata": {},
   "outputs": [
    {
     "name": "stdout",
     "output_type": "stream",
     "text": [
      "[[('who', 'WP')], [('is', 'VBZ')], [('the', 'DT')], [('founder', 'NN')], [('of', 'IN')], [('bomis', 'NN'), ('?', '.')]]\n",
      "[('who', 'WP'), ('founder', 'NN'), ('bomis', 'NN')]\n",
      "pairs: [('who', 'founder'), ('who', 'bomis'), ('founder', 'bomis')]\n"
     ]
    }
   ],
   "source": [
    "# Example: given a question, find the entity pairs \n",
    "entities = identify_entities(questions[5]['question'])\n",
    "create_entity_pairs(entities)"
   ]
  }
 ],
 "metadata": {
  "kernelspec": {
   "display_name": "Python 3",
   "language": "python",
   "name": "python3"
  },
  "language_info": {
   "codemirror_mode": {
    "name": "ipython",
    "version": 3
   },
   "file_extension": ".py",
   "mimetype": "text/x-python",
   "name": "python",
   "nbconvert_exporter": "python",
   "pygments_lexer": "ipython3",
   "version": "3.6.4"
  }
 },
 "nbformat": 4,
 "nbformat_minor": 2
}
