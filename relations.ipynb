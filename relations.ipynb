{
 "cells": [
  {
   "cell_type": "code",
   "execution_count": 1,
   "metadata": {},
   "outputs": [
    {
     "name": "stdout",
     "output_type": "stream",
     "text": [
      "Reading KB triples from ../cs224u/rel_ext_data/kb.tsv.gz ...\n",
      "Read 56575 KB triples\n"
     ]
    }
   ],
   "source": [
    "# this notebook separates s all functions to use freebase knowledge base extracted from class website\n",
    "# in case we need to use it\n",
    "\n",
    "# <subject>  <predicate>  <object>\n",
    "\n",
    "import gzip\n",
    "import numpy as np\n",
    "import random\n",
    "import os\n",
    "\n",
    "from collections import Counter, defaultdict, namedtuple\n",
    "from sklearn.feature_extraction import DictVectorizer\n",
    "from sklearn.linear_model import LogisticRegression\n",
    "from sklearn.metrics import precision_recall_fscore_support\n",
    "from sklearn.model_selection import train_test_split\n",
    "\n",
    "rel_ext_data_home = '../cs224u/rel_ext_data'\n",
    "\n",
    "KBTriple = namedtuple('KBTriple', 'rel, sbj, obj')\n",
    "\n",
    "def read_kb_triples():\n",
    "    kb_triples = []\n",
    "    path = os.path.join(rel_ext_data_home, 'kb.tsv.gz')\n",
    "    print('Reading KB triples from {} ...'.format(path))\n",
    "    with gzip.open(path) as f:\n",
    "        for line in f:\n",
    "            rel, sbj, obj = line[:-1].decode('utf-8').split('\\t')\n",
    "            kb_triples.append(KBTriple(rel, sbj, obj))\n",
    "    print('Read {} KB triples'.format(len(kb_triples)))\n",
    "    return kb_triples\n",
    "\n",
    "kb_triples = read_kb_triples()"
   ]
  },
  {
   "cell_type": "code",
   "execution_count": 2,
   "metadata": {},
   "outputs": [],
   "source": [
    "class KB():\n",
    "\n",
    "    def __init__(self, kb_triples):\n",
    "        self._kb_triples = kb_triples\n",
    "        self._all_relations = []\n",
    "        self._all_entity_pairs = []\n",
    "        self._kb_triples_by_relation = {}\n",
    "        self._kb_triples_by_entities = {}\n",
    "        self._collect_all_entity_pairs()\n",
    "        self._index_kb_triples_by_relation()\n",
    "        self._index_kb_triples_by_entities()\n",
    "\n",
    "    def _collect_all_entity_pairs(self):\n",
    "        pairs = set()\n",
    "        for kbt in self._kb_triples:\n",
    "            pairs.add((kbt.sbj, kbt.obj))\n",
    "        self._all_entity_pairs = sorted(list(pairs))\n",
    "        \n",
    "    def _index_kb_triples_by_relation(self):\n",
    "        for kbt in self._kb_triples:\n",
    "            if kbt.rel not in self._kb_triples_by_relation:\n",
    "                self._kb_triples_by_relation[kbt.rel] = []\n",
    "            self._kb_triples_by_relation[kbt.rel].append(kbt)\n",
    "        self._all_relations = sorted(list(self._kb_triples_by_relation))\n",
    "    \n",
    "    def _index_kb_triples_by_entities(self):\n",
    "        for kbt in self._kb_triples:\n",
    "            if kbt.sbj not in self._kb_triples_by_entities:\n",
    "                self._kb_triples_by_entities[kbt.sbj] = {}\n",
    "            if kbt.obj not in self._kb_triples_by_entities[kbt.sbj]:\n",
    "                self._kb_triples_by_entities[kbt.sbj][kbt.obj] = []\n",
    "            self._kb_triples_by_entities[kbt.sbj][kbt.obj].append(kbt)\n",
    "\n",
    "    def get_triples(self):\n",
    "        return iter(self._kb_triples)\n",
    "        \n",
    "    def get_all_relations(self):\n",
    "        return self._all_relations\n",
    "            \n",
    "    def get_all_entity_pairs(self):\n",
    "        return self._all_entity_pairs\n",
    "            \n",
    "    def get_triples_for_relation(self, rel):\n",
    "        try:\n",
    "            return self._kb_triples_by_relation[rel]\n",
    "        except KeyError:\n",
    "            return []\n",
    "\n",
    "    def get_triples_for_entities(self, e1, e2):\n",
    "        try:\n",
    "            return self._kb_triples_by_entities[e1][e2]\n",
    "        except KeyError:\n",
    "            return []\n",
    "\n",
    "    def __repr__(self):\n",
    "        return 'KB with {} triples'.format(len(self._kb_triples))"
   ]
  },
  {
   "cell_type": "code",
   "execution_count": 3,
   "metadata": {},
   "outputs": [
    {
     "data": {
      "text/plain": [
       "KB with 56575 triples"
      ]
     },
     "execution_count": 3,
     "metadata": {},
     "output_type": "execute_result"
    }
   ],
   "source": [
    "kb = KB(kb_triples)\n",
    "kb"
   ]
  },
  {
   "cell_type": "code",
   "execution_count": 4,
   "metadata": {},
   "outputs": [
    {
     "name": "stdout",
     "output_type": "stream",
     "text": [
      "16\n"
     ]
    }
   ],
   "source": [
    "all_relations = kb.get_all_relations()\n",
    "print(len(all_relations))"
   ]
  },
  {
   "cell_type": "code",
   "execution_count": 5,
   "metadata": {},
   "outputs": [
    {
     "name": "stdout",
     "output_type": "stream",
     "text": [
      "        2140 adjoins\n",
      "        3316 author\n",
      "         637 capital\n",
      "       22489 contains\n",
      "        4958 film_performance\n",
      "        2404 founders\n",
      "        1012 genre\n",
      "        3280 has_sibling\n",
      "        3774 has_spouse\n",
      "        3153 is_a\n",
      "        1981 nationality\n",
      "        2013 parents\n",
      "        1388 place_of_birth\n",
      "        1031 place_of_death\n",
      "        1526 profession\n",
      "        1473 worked_at\n"
     ]
    }
   ],
   "source": [
    "for rel in all_relations:\n",
    "    print('{:12d} {}'.format(len(kb.get_triples_for_relation(rel)), rel))"
   ]
  },
  {
   "cell_type": "code",
   "execution_count": 6,
   "metadata": {},
   "outputs": [
    {
     "name": "stdout",
     "output_type": "stream",
     "text": [
      "('adjoins', 'Siegburg', 'Bonn')\n",
      "('author', 'Uncle_Silas', 'Sheridan_Le_Fanu')\n",
      "('capital', 'Tunisia', 'Tunis')\n",
      "('contains', 'Brickfields', 'Kuala_Lumpur_Sentral_railway_station')\n",
      "('film_performance', 'Colin_Hanks', 'The_Great_Buck_Howard')\n",
      "('founders', 'Bomis', 'Jimmy_Wales')\n",
      "('genre', 'SPARQL', 'Semantic_Web')\n",
      "('has_sibling', 'Ari_Emanuel', 'Rahm_Emanuel')\n",
      "('has_spouse', 'Percy_Bysshe_Shelley', 'Mary_Shelley')\n",
      "('is_a', 'Bhanu_Athaiya', 'Costume_designer')\n",
      "('nationality', 'Ruben_Rausing', 'Sweden')\n",
      "('parents', 'Prince_Arthur_of_Connaught', 'Prince_Arthur,_Duke_of_Connaught_and_Strathearn')\n",
      "('place_of_birth', 'William_Penny_Brookes', 'Much_Wenlock')\n",
      "('place_of_death', 'Jean_Drapeau', 'Montreal')\n",
      "('profession', 'Rufus_Wainwright', 'Actor')\n",
      "('worked_at', 'Ray_Jackendoff', 'Tufts_University')\n"
     ]
    }
   ],
   "source": [
    "for rel in all_relations:\n",
    "    print(tuple(kb.get_triples_for_relation(rel)[0]))"
   ]
  },
  {
   "cell_type": "code",
   "execution_count": null,
   "metadata": {},
   "outputs": [],
   "source": []
  }
 ],
 "metadata": {
  "kernelspec": {
   "display_name": "Python 3",
   "language": "python",
   "name": "python3"
  },
  "language_info": {
   "codemirror_mode": {
    "name": "ipython",
    "version": 3
   },
   "file_extension": ".py",
   "mimetype": "text/x-python",
   "name": "python",
   "nbconvert_exporter": "python",
   "pygments_lexer": "ipython3",
   "version": "3.6.4"
  }
 },
 "nbformat": 4,
 "nbformat_minor": 2
}
